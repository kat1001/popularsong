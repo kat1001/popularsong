{
 "cells": [
  {
   "cell_type": "markdown",
   "metadata": {},
   "source": [
    "# COGS 108 - Final Project How to Make a Banger (song)"
   ]
  },
  {
   "cell_type": "markdown",
   "metadata": {},
   "source": [
    "## Permissions\n",
    "\n",
    "Place an `X` in the appropriate bracket below to specify if you would like your group's project to be made available to the public. (Note that student names will be included (but PIDs will be scraped from any groups who include their PIDs).\n",
    "\n",
    "* [  ] YES - make available\n",
    "* [x] NO - keep private"
   ]
  },
  {
   "cell_type": "markdown",
   "metadata": {},
   "source": [
    "# Overview"
   ]
  },
  {
   "cell_type": "markdown",
   "metadata": {},
   "source": [
    "For this project we will be analyzing the relationships technical song characteristics and song popularity as determined by total number of streams. We began our search for a dataset by exploring the Spotify R&D page for datasets to use. Eventually we came across 3 datasets from Kaggle compiled as part of Kaggle research competitions. We cleaned normalized and merged the 3  datasets. In our analysis we inspected the distributions of song characteristics grouped by whether or not songs were popular or not. We also calculated pearson correlation, t test values, and p values. Our final conclusions are:"
   ]
  },
  {
   "cell_type": "markdown",
   "metadata": {},
   "source": [
    "# Names\n",
    "\n",
    "- Royce Casiano\n",
    "- Keionni Thompson\n",
    "- Hargun Singh Mahindra\n",
    "- Ryan Kim"
   ]
  },
  {
   "cell_type": "markdown",
   "metadata": {},
   "source": [
    "<a id='research_question'></a>\n",
    "# Research Question"
   ]
  },
  {
   "cell_type": "markdown",
   "metadata": {},
   "source": [
    "What criteria should be met in order for an up and coming artist to make it in the music industry? More specifically what musical style elements result in the most Spotify streams for artists?"
   ]
  },
  {
   "cell_type": "markdown",
   "metadata": {},
   "source": [
    "<a id='background'></a>\n",
    "\n",
    "## Background & Prior Work"
   ]
  },
  {
   "cell_type": "markdown",
   "metadata": {},
   "source": [
    "Music has been around for centuries and with the advancement of modern technology, just about anyone can make music thus making it an oversaturated industry for an individual to be successful in. There are many rewards that come with being a successful artist such as the money, fame, and the ability to motivate and inspire millions of people around the world. We are essentially asking what features of a song result in the most streams for an up and coming artist and make it big in a field that is jam-packed with hundreds of thousands of people. Through extensive research, we have discovered some basic elements of a song that are essential for an artist to have in order to obtain the most amount of streams possible. \n",
    "\n",
    "In today's current stage of technology, there are actually a few key elements of a song that are connected to a high volume of streams. When making a song, there are thirteen different elements that an artist should consider when making a song. Spotify keeps datasets for these thirteen different elements and are available for people to scroll view. This data allows people to objectify music and analyze it to figure out interesting patterns that may be useful. According to user experience designer Asrith Sherry, in his article, “What Makes a Song Likable?”, he explores Spotify’s datasets containing these thirteen different features and performs statistical analysis in order to discover which features result in a song receiving the most streams. After thorough analysis of the “ Top Spotify Tracks of 2017”, Asrith created a radar chart that depicted each song that was charted based off of six different parameters. In conclusion, the elements that were most valuable for a song were danceability, energy, and valence. \n",
    "\n",
    "Continuing on the several different elements that may predict the number of streams a song may get, the length of the seems to matter as well. Today, streaming music is what is used to judge the popularity of an artist, with the more streams, the more popular the artist. According to Zachary Mack, in his article, “How Streaming Affects the Lengths of Songs”, he edits an interview between songwriter Charlie Harding and musicologist Nate Sloan explaining how songs have gotten shorter in length when compared to the past. He notes that in the past, “songs that were coming in at four minutes and 30 seconds. Today, songs are down to three minutes and 42 seconds.” With this knowledge, artists are able to identify an optimal time length for their song in order to be able to achieve a high number of streams. \t\t\t\t\t\t\t\t\t\t\t\t\t\t\t\t\t\n",
    "\n",
    "References:\t\n",
    "\n",
    "-https://towardsdatascience.com/what-makes-a-song-likeable-dbfdb7abe404?gi=528571d1bae3 \n",
    "\n",
    "-https://www.theverge.com/2019/5/28/18642978/music-streaming-spotify-song-length-distribution-production-switched-on-pop-vergecast-interview\n"
   ]
  },
  {
   "cell_type": "markdown",
   "metadata": {},
   "source": [
    "# Hypothesis\n"
   ]
  },
  {
   "cell_type": "markdown",
   "metadata": {},
   "source": [
    "We predict that there will be a strong correlation between song characteristics and total streams of a song. This correlation would suggest there are key elements that would predict the popularity of songs. "
   ]
  },
  {
   "cell_type": "markdown",
   "metadata": {},
   "source": [
    "# Dataset(s)"
   ]
  },
  {
   "cell_type": "markdown",
   "metadata": {},
   "source": [
    "- Dataset Name: 2000song.csv\n",
    "- Link to the dataset: https://www.kaggle.com/iamsumat/spotify-top-2000s-mega-dataset\n",
    "- Number of observations: 2000\n",
    "\n",
    "In this dataset Spotify's 2000 most streamed songs are collected and compiled. Along with the name and artist of each song are information for other descriptive variables of the songs.\n",
    "\n",
    "- Dataset Name: 116ksong.csv\n",
    "- Link to the dataset: https://www.kaggle.com/tomigelo/spotify-audio-features\n",
    "- Number of observations: 130663 \n",
    "\n",
    "In this dataset 130 thousand of Spotify's random featured songs have been pulled from their service and recorded. Similarly to the above datase the name and artist of each song are information for other descriptive variables of the songs. With this set we look to compare the attributes of those in the top 2000 to those which are not.\n",
    "\n",
    "- Dataset Name: charts.csv\n",
    "- Link to the dataset: https://www.kaggle.com/sashankpillai/spotify-top-200-charts-20202021\n",
    "- Number of observations: 1556\n",
    "\n",
    "This dataset displays a list of songs that made it to country specific spotify top 200 charts between 2020 and 2021. This dataset includes information such as highest charting position, number of times charted, when it charted the highest, number of streams, artist, amount of artist followers, genre, release date, as well as scores regarding danceability, energy, loudness, speechiness, acousticness, etc that were calculated and recorded by the spotify platform and API. We will use this dataset along with the other two to give us a working numerical value of popularity by number of streams.  \n"
   ]
  },
  {
   "cell_type": "markdown",
   "metadata": {},
   "source": [
    "# Setup"
   ]
  },
  {
   "cell_type": "code",
   "execution_count": 1,
   "metadata": {},
   "outputs": [],
   "source": [
    "# import pandas library\n",
    "import pandas as pd\n",
    "pd.options.display.float_format = '{:.2f}'.format\n",
    "# import numpy library\n",
    "import numpy as np\n",
    "\n",
    "# import matplotlib\n",
    "import matplotlib.pyplot as plt\n",
    "\n",
    "# Import seaborn - will change style later\n",
    "import seaborn as sns\n",
    "\n",
    "\n",
    "# Statmodels & patsy \n",
    "from patsy import dmatrices\n",
    "import statsmodels.api as sm\n",
    "\n",
    "import scipy as sp\n",
    "import scipy.stats as stats\n",
    "from scipy.stats import ttest_ind, chisquare, normaltest\n",
    "\n"
   ]
  },
  {
   "cell_type": "markdown",
   "metadata": {},
   "source": [
    "# Data Cleaning"
   ]
  },
  {
   "cell_type": "code",
   "execution_count": 2,
   "metadata": {},
   "outputs": [],
   "source": [
    "# Here we ar first reading in our data.\n",
    "hundf = pd.read_csv(\"data/2000song.csv\")\n",
    "moredf = pd.read_csv('data/116ksong.csv')\n",
    "songs = pd.read_csv(\"data/charts.csv\")"
   ]
  },
  {
   "cell_type": "markdown",
   "metadata": {},
   "source": [
    "In our first data set there are 2000 observations representing the 2000 most streamed songs on Spotify. \n",
    "The variables we want to focus on are title,artist, bpm, energy, loudness(.dB), length(ms),acousticness,song duration and speechiness, which were calculated and recorded directly by the spotify platform/API.\n",
    "\n",
    "Since our first data set represents the top 2000 streamed songs on spotify. From our second dataset we will be focused on songs which are not considered part of the top 2000 to make a comparison.\n",
    "\n",
    "Our third dataset features gives us a quanifiable value \"streams\" to replace and represent the variable \"popularity\" which is featured in our first two datasets."
   ]
  },
  {
   "cell_type": "code",
   "execution_count": 3,
   "metadata": {},
   "outputs": [
    {
     "data": {
      "text/html": [
       "<div>\n",
       "<style scoped>\n",
       "    .dataframe tbody tr th:only-of-type {\n",
       "        vertical-align: middle;\n",
       "    }\n",
       "\n",
       "    .dataframe tbody tr th {\n",
       "        vertical-align: top;\n",
       "    }\n",
       "\n",
       "    .dataframe thead th {\n",
       "        text-align: right;\n",
       "    }\n",
       "</style>\n",
       "<table border=\"1\" class=\"dataframe\">\n",
       "  <thead>\n",
       "    <tr style=\"text-align: right;\">\n",
       "      <th></th>\n",
       "      <th>Index</th>\n",
       "      <th>Title</th>\n",
       "      <th>Artist</th>\n",
       "      <th>Top Genre</th>\n",
       "      <th>Year</th>\n",
       "      <th>Beats Per Minute (BPM)</th>\n",
       "      <th>Energy</th>\n",
       "      <th>Danceability</th>\n",
       "      <th>Loudness (dB)</th>\n",
       "      <th>Liveness</th>\n",
       "      <th>Valence</th>\n",
       "      <th>Length (Duration)</th>\n",
       "      <th>Acousticness</th>\n",
       "      <th>Speechiness</th>\n",
       "      <th>Popularity</th>\n",
       "    </tr>\n",
       "  </thead>\n",
       "  <tbody>\n",
       "    <tr>\n",
       "      <th>0</th>\n",
       "      <td>1</td>\n",
       "      <td>Sunrise</td>\n",
       "      <td>Norah Jones</td>\n",
       "      <td>adult standards</td>\n",
       "      <td>2004</td>\n",
       "      <td>157</td>\n",
       "      <td>30</td>\n",
       "      <td>53</td>\n",
       "      <td>-14</td>\n",
       "      <td>11</td>\n",
       "      <td>68</td>\n",
       "      <td>201</td>\n",
       "      <td>94</td>\n",
       "      <td>3</td>\n",
       "      <td>71</td>\n",
       "    </tr>\n",
       "    <tr>\n",
       "      <th>1</th>\n",
       "      <td>2</td>\n",
       "      <td>Black Night</td>\n",
       "      <td>Deep Purple</td>\n",
       "      <td>album rock</td>\n",
       "      <td>2000</td>\n",
       "      <td>135</td>\n",
       "      <td>79</td>\n",
       "      <td>50</td>\n",
       "      <td>-11</td>\n",
       "      <td>17</td>\n",
       "      <td>81</td>\n",
       "      <td>207</td>\n",
       "      <td>17</td>\n",
       "      <td>7</td>\n",
       "      <td>39</td>\n",
       "    </tr>\n",
       "    <tr>\n",
       "      <th>2</th>\n",
       "      <td>3</td>\n",
       "      <td>Clint Eastwood</td>\n",
       "      <td>Gorillaz</td>\n",
       "      <td>alternative hip hop</td>\n",
       "      <td>2001</td>\n",
       "      <td>168</td>\n",
       "      <td>69</td>\n",
       "      <td>66</td>\n",
       "      <td>-9</td>\n",
       "      <td>7</td>\n",
       "      <td>52</td>\n",
       "      <td>341</td>\n",
       "      <td>2</td>\n",
       "      <td>17</td>\n",
       "      <td>69</td>\n",
       "    </tr>\n",
       "  </tbody>\n",
       "</table>\n",
       "</div>"
      ],
      "text/plain": [
       "   Index           Title       Artist            Top Genre  Year  \\\n",
       "0      1         Sunrise  Norah Jones      adult standards  2004   \n",
       "1      2     Black Night  Deep Purple           album rock  2000   \n",
       "2      3  Clint Eastwood     Gorillaz  alternative hip hop  2001   \n",
       "\n",
       "   Beats Per Minute (BPM)  Energy  Danceability  Loudness (dB)  Liveness  \\\n",
       "0                     157      30            53            -14        11   \n",
       "1                     135      79            50            -11        17   \n",
       "2                     168      69            66             -9         7   \n",
       "\n",
       "   Valence Length (Duration)  Acousticness  Speechiness  Popularity  \n",
       "0       68               201            94            3          71  \n",
       "1       81               207            17            7          39  \n",
       "2       52               341             2           17          69  "
      ]
     },
     "execution_count": 3,
     "metadata": {},
     "output_type": "execute_result"
    }
   ],
   "source": [
    "#Quick look at what is inside dataset 1\n",
    "hundf.head(3)"
   ]
  },
  {
   "cell_type": "code",
   "execution_count": 4,
   "metadata": {},
   "outputs": [
    {
     "data": {
      "text/html": [
       "<div>\n",
       "<style scoped>\n",
       "    .dataframe tbody tr th:only-of-type {\n",
       "        vertical-align: middle;\n",
       "    }\n",
       "\n",
       "    .dataframe tbody tr th {\n",
       "        vertical-align: top;\n",
       "    }\n",
       "\n",
       "    .dataframe thead th {\n",
       "        text-align: right;\n",
       "    }\n",
       "</style>\n",
       "<table border=\"1\" class=\"dataframe\">\n",
       "  <thead>\n",
       "    <tr style=\"text-align: right;\">\n",
       "      <th></th>\n",
       "      <th>artist_name</th>\n",
       "      <th>track_id</th>\n",
       "      <th>track_name</th>\n",
       "      <th>acousticness</th>\n",
       "      <th>danceability</th>\n",
       "      <th>duration_ms</th>\n",
       "      <th>energy</th>\n",
       "      <th>instrumentalness</th>\n",
       "      <th>key</th>\n",
       "      <th>liveness</th>\n",
       "      <th>loudness</th>\n",
       "      <th>mode</th>\n",
       "      <th>speechiness</th>\n",
       "      <th>tempo</th>\n",
       "      <th>time_signature</th>\n",
       "      <th>valence</th>\n",
       "      <th>popularity</th>\n",
       "    </tr>\n",
       "  </thead>\n",
       "  <tbody>\n",
       "    <tr>\n",
       "      <th>0</th>\n",
       "      <td>YG</td>\n",
       "      <td>2RM4jf1Xa9zPgMGRDiht8O</td>\n",
       "      <td>Big Bank feat. 2 Chainz, Big Sean, Nicki Minaj</td>\n",
       "      <td>0.01</td>\n",
       "      <td>0.74</td>\n",
       "      <td>238373</td>\n",
       "      <td>0.34</td>\n",
       "      <td>0.00</td>\n",
       "      <td>1</td>\n",
       "      <td>0.08</td>\n",
       "      <td>-7.68</td>\n",
       "      <td>1</td>\n",
       "      <td>0.41</td>\n",
       "      <td>203.93</td>\n",
       "      <td>4</td>\n",
       "      <td>0.12</td>\n",
       "      <td>15</td>\n",
       "    </tr>\n",
       "    <tr>\n",
       "      <th>1</th>\n",
       "      <td>YG</td>\n",
       "      <td>1tHDG53xJNGsItRA3vfVgs</td>\n",
       "      <td>BAND DRUM (feat. A$AP Rocky)</td>\n",
       "      <td>0.02</td>\n",
       "      <td>0.85</td>\n",
       "      <td>214800</td>\n",
       "      <td>0.56</td>\n",
       "      <td>0.00</td>\n",
       "      <td>8</td>\n",
       "      <td>0.29</td>\n",
       "      <td>-7.26</td>\n",
       "      <td>1</td>\n",
       "      <td>0.46</td>\n",
       "      <td>159.01</td>\n",
       "      <td>4</td>\n",
       "      <td>0.37</td>\n",
       "      <td>0</td>\n",
       "    </tr>\n",
       "    <tr>\n",
       "      <th>2</th>\n",
       "      <td>R3HAB</td>\n",
       "      <td>6Wosx2euFPMT14UXiWudMy</td>\n",
       "      <td>Radio Silence</td>\n",
       "      <td>0.03</td>\n",
       "      <td>0.60</td>\n",
       "      <td>138913</td>\n",
       "      <td>0.72</td>\n",
       "      <td>0.00</td>\n",
       "      <td>9</td>\n",
       "      <td>0.08</td>\n",
       "      <td>-5.89</td>\n",
       "      <td>0</td>\n",
       "      <td>0.05</td>\n",
       "      <td>114.97</td>\n",
       "      <td>4</td>\n",
       "      <td>0.38</td>\n",
       "      <td>56</td>\n",
       "    </tr>\n",
       "  </tbody>\n",
       "</table>\n",
       "</div>"
      ],
      "text/plain": [
       "  artist_name                track_id  \\\n",
       "0          YG  2RM4jf1Xa9zPgMGRDiht8O   \n",
       "1          YG  1tHDG53xJNGsItRA3vfVgs   \n",
       "2       R3HAB  6Wosx2euFPMT14UXiWudMy   \n",
       "\n",
       "                                       track_name  acousticness  danceability  \\\n",
       "0  Big Bank feat. 2 Chainz, Big Sean, Nicki Minaj          0.01          0.74   \n",
       "1                    BAND DRUM (feat. A$AP Rocky)          0.02          0.85   \n",
       "2                                   Radio Silence          0.03          0.60   \n",
       "\n",
       "   duration_ms  energy  instrumentalness  key  liveness  loudness  mode  \\\n",
       "0       238373    0.34              0.00    1      0.08     -7.68     1   \n",
       "1       214800    0.56              0.00    8      0.29     -7.26     1   \n",
       "2       138913    0.72              0.00    9      0.08     -5.89     0   \n",
       "\n",
       "   speechiness  tempo  time_signature  valence  popularity  \n",
       "0         0.41 203.93               4     0.12          15  \n",
       "1         0.46 159.01               4     0.37           0  \n",
       "2         0.05 114.97               4     0.38          56  "
      ]
     },
     "execution_count": 4,
     "metadata": {},
     "output_type": "execute_result"
    }
   ],
   "source": [
    "#Quick look at what is inside dataset 2\n",
    "moredf.head(3)"
   ]
  },
  {
   "cell_type": "code",
   "execution_count": 5,
   "metadata": {},
   "outputs": [
    {
     "data": {
      "text/html": [
       "<div>\n",
       "<style scoped>\n",
       "    .dataframe tbody tr th:only-of-type {\n",
       "        vertical-align: middle;\n",
       "    }\n",
       "\n",
       "    .dataframe tbody tr th {\n",
       "        vertical-align: top;\n",
       "    }\n",
       "\n",
       "    .dataframe thead th {\n",
       "        text-align: right;\n",
       "    }\n",
       "</style>\n",
       "<table border=\"1\" class=\"dataframe\">\n",
       "  <thead>\n",
       "    <tr style=\"text-align: right;\">\n",
       "      <th></th>\n",
       "      <th>title</th>\n",
       "      <th>rank</th>\n",
       "      <th>date</th>\n",
       "      <th>artist</th>\n",
       "      <th>url</th>\n",
       "      <th>region</th>\n",
       "      <th>chart</th>\n",
       "      <th>trend</th>\n",
       "      <th>streams</th>\n",
       "    </tr>\n",
       "  </thead>\n",
       "  <tbody>\n",
       "    <tr>\n",
       "      <th>0</th>\n",
       "      <td>Despacito (Featuring Daddy Yankee)</td>\n",
       "      <td>1</td>\n",
       "      <td>2017-03-01</td>\n",
       "      <td>Luis Fonsi</td>\n",
       "      <td>https://open.spotify.com/track/4aWmUDTfIPGksMN...</td>\n",
       "      <td>Argentina</td>\n",
       "      <td>top200</td>\n",
       "      <td>SAME_POSITION</td>\n",
       "      <td>365941.00</td>\n",
       "    </tr>\n",
       "    <tr>\n",
       "      <th>1</th>\n",
       "      <td>El Amante</td>\n",
       "      <td>2</td>\n",
       "      <td>2017-03-01</td>\n",
       "      <td>Nicky Jam</td>\n",
       "      <td>https://open.spotify.com/track/3umS4y3uQDkqekN...</td>\n",
       "      <td>Argentina</td>\n",
       "      <td>top200</td>\n",
       "      <td>SAME_POSITION</td>\n",
       "      <td>179697.00</td>\n",
       "    </tr>\n",
       "    <tr>\n",
       "      <th>2</th>\n",
       "      <td>Reggaetón Lento (Bailemos)</td>\n",
       "      <td>3</td>\n",
       "      <td>2017-03-01</td>\n",
       "      <td>CNCO</td>\n",
       "      <td>https://open.spotify.com/track/3AEZUABDXNtecAO...</td>\n",
       "      <td>Argentina</td>\n",
       "      <td>top200</td>\n",
       "      <td>SAME_POSITION</td>\n",
       "      <td>169647.00</td>\n",
       "    </tr>\n",
       "  </tbody>\n",
       "</table>\n",
       "</div>"
      ],
      "text/plain": [
       "                                title  rank        date      artist  \\\n",
       "0  Despacito (Featuring Daddy Yankee)     1  2017-03-01  Luis Fonsi   \n",
       "1                           El Amante     2  2017-03-01   Nicky Jam   \n",
       "2          Reggaetón Lento (Bailemos)     3  2017-03-01        CNCO   \n",
       "\n",
       "                                                 url     region   chart  \\\n",
       "0  https://open.spotify.com/track/4aWmUDTfIPGksMN...  Argentina  top200   \n",
       "1  https://open.spotify.com/track/3umS4y3uQDkqekN...  Argentina  top200   \n",
       "2  https://open.spotify.com/track/3AEZUABDXNtecAO...  Argentina  top200   \n",
       "\n",
       "           trend   streams  \n",
       "0  SAME_POSITION 365941.00  \n",
       "1  SAME_POSITION 179697.00  \n",
       "2  SAME_POSITION 169647.00  "
      ]
     },
     "execution_count": 5,
     "metadata": {},
     "output_type": "execute_result"
    }
   ],
   "source": [
    "#Quick look at what is inside dataset 3\n",
    "songs.head(3)"
   ]
  },
  {
   "cell_type": "markdown",
   "metadata": {},
   "source": [
    "To work with our data sets we need to create a uniform for them. First we will clean up the column names and isolate for the variables we are interested in. "
   ]
  },
  {
   "cell_type": "code",
   "execution_count": 6,
   "metadata": {},
   "outputs": [],
   "source": [
    "#This reordered our variables and eliminated characteristics we are not interested in.\n",
    "hundf = hundf[['Title','Artist','Beats Per Minute (BPM)','Energy','Loudness (dB)','Liveness','Valence','Length (Duration)','Acousticness','Speechiness']]\n",
    "moredf = moredf[['track_name','artist_name','tempo','energy','loudness','liveness','valence','duration_ms','acousticness','speechiness']]\n",
    "songs = songs[['title','artist','streams']]\n",
    "\n",
    "hundf.rename(columns={'Title': 'song_name','Artist': 'song_artist','Beats Per Minute (BPM)':'BPM','Energy':'energy','Loudness (dB)':'loudness','Liveness':'liveness','Valence':'valence', 'Length (Duration)':'song_duration','Acousticness':'acousticness','Speechiness':'speechiness'}, inplace=True)\n",
    "moredf.rename(columns={'track_name': 'song_name','artist_name': 'song_artist','tempo':'BPM','duration_ms':'song_duration'}, inplace=True)\n",
    "songs.rename(columns={'title':'song_name','artist':'artist_name'},inplace=True)\n"
   ]
  },
  {
   "cell_type": "code",
   "execution_count": 7,
   "metadata": {},
   "outputs": [
    {
     "data": {
      "text/html": [
       "<div>\n",
       "<style scoped>\n",
       "    .dataframe tbody tr th:only-of-type {\n",
       "        vertical-align: middle;\n",
       "    }\n",
       "\n",
       "    .dataframe tbody tr th {\n",
       "        vertical-align: top;\n",
       "    }\n",
       "\n",
       "    .dataframe thead th {\n",
       "        text-align: right;\n",
       "    }\n",
       "</style>\n",
       "<table border=\"1\" class=\"dataframe\">\n",
       "  <thead>\n",
       "    <tr style=\"text-align: right;\">\n",
       "      <th></th>\n",
       "      <th>song_name</th>\n",
       "      <th>song_artist</th>\n",
       "      <th>BPM</th>\n",
       "      <th>energy</th>\n",
       "      <th>loudness</th>\n",
       "      <th>liveness</th>\n",
       "      <th>valence</th>\n",
       "      <th>song_duration</th>\n",
       "      <th>acousticness</th>\n",
       "      <th>speechiness</th>\n",
       "    </tr>\n",
       "  </thead>\n",
       "  <tbody>\n",
       "    <tr>\n",
       "      <th>0</th>\n",
       "      <td>Sunrise</td>\n",
       "      <td>Norah Jones</td>\n",
       "      <td>157</td>\n",
       "      <td>30</td>\n",
       "      <td>-14</td>\n",
       "      <td>11</td>\n",
       "      <td>68</td>\n",
       "      <td>201</td>\n",
       "      <td>94</td>\n",
       "      <td>3</td>\n",
       "    </tr>\n",
       "    <tr>\n",
       "      <th>1</th>\n",
       "      <td>Black Night</td>\n",
       "      <td>Deep Purple</td>\n",
       "      <td>135</td>\n",
       "      <td>79</td>\n",
       "      <td>-11</td>\n",
       "      <td>17</td>\n",
       "      <td>81</td>\n",
       "      <td>207</td>\n",
       "      <td>17</td>\n",
       "      <td>7</td>\n",
       "    </tr>\n",
       "    <tr>\n",
       "      <th>2</th>\n",
       "      <td>Clint Eastwood</td>\n",
       "      <td>Gorillaz</td>\n",
       "      <td>168</td>\n",
       "      <td>69</td>\n",
       "      <td>-9</td>\n",
       "      <td>7</td>\n",
       "      <td>52</td>\n",
       "      <td>341</td>\n",
       "      <td>2</td>\n",
       "      <td>17</td>\n",
       "    </tr>\n",
       "  </tbody>\n",
       "</table>\n",
       "</div>"
      ],
      "text/plain": [
       "        song_name  song_artist  BPM  energy  loudness  liveness  valence  \\\n",
       "0         Sunrise  Norah Jones  157      30       -14        11       68   \n",
       "1     Black Night  Deep Purple  135      79       -11        17       81   \n",
       "2  Clint Eastwood     Gorillaz  168      69        -9         7       52   \n",
       "\n",
       "  song_duration  acousticness  speechiness  \n",
       "0           201            94            3  \n",
       "1           207            17            7  \n",
       "2           341             2           17  "
      ]
     },
     "execution_count": 7,
     "metadata": {},
     "output_type": "execute_result"
    }
   ],
   "source": [
    "hundf.head(3)"
   ]
  },
  {
   "cell_type": "code",
   "execution_count": 8,
   "metadata": {},
   "outputs": [
    {
     "data": {
      "text/html": [
       "<div>\n",
       "<style scoped>\n",
       "    .dataframe tbody tr th:only-of-type {\n",
       "        vertical-align: middle;\n",
       "    }\n",
       "\n",
       "    .dataframe tbody tr th {\n",
       "        vertical-align: top;\n",
       "    }\n",
       "\n",
       "    .dataframe thead th {\n",
       "        text-align: right;\n",
       "    }\n",
       "</style>\n",
       "<table border=\"1\" class=\"dataframe\">\n",
       "  <thead>\n",
       "    <tr style=\"text-align: right;\">\n",
       "      <th></th>\n",
       "      <th>song_name</th>\n",
       "      <th>song_artist</th>\n",
       "      <th>BPM</th>\n",
       "      <th>energy</th>\n",
       "      <th>loudness</th>\n",
       "      <th>liveness</th>\n",
       "      <th>valence</th>\n",
       "      <th>song_duration</th>\n",
       "      <th>acousticness</th>\n",
       "      <th>speechiness</th>\n",
       "    </tr>\n",
       "  </thead>\n",
       "  <tbody>\n",
       "    <tr>\n",
       "      <th>0</th>\n",
       "      <td>Big Bank feat. 2 Chainz, Big Sean, Nicki Minaj</td>\n",
       "      <td>YG</td>\n",
       "      <td>203.93</td>\n",
       "      <td>0.34</td>\n",
       "      <td>-7.68</td>\n",
       "      <td>0.08</td>\n",
       "      <td>0.12</td>\n",
       "      <td>238373</td>\n",
       "      <td>0.01</td>\n",
       "      <td>0.41</td>\n",
       "    </tr>\n",
       "    <tr>\n",
       "      <th>1</th>\n",
       "      <td>BAND DRUM (feat. A$AP Rocky)</td>\n",
       "      <td>YG</td>\n",
       "      <td>159.01</td>\n",
       "      <td>0.56</td>\n",
       "      <td>-7.26</td>\n",
       "      <td>0.29</td>\n",
       "      <td>0.37</td>\n",
       "      <td>214800</td>\n",
       "      <td>0.02</td>\n",
       "      <td>0.46</td>\n",
       "    </tr>\n",
       "    <tr>\n",
       "      <th>2</th>\n",
       "      <td>Radio Silence</td>\n",
       "      <td>R3HAB</td>\n",
       "      <td>114.97</td>\n",
       "      <td>0.72</td>\n",
       "      <td>-5.89</td>\n",
       "      <td>0.08</td>\n",
       "      <td>0.38</td>\n",
       "      <td>138913</td>\n",
       "      <td>0.03</td>\n",
       "      <td>0.05</td>\n",
       "    </tr>\n",
       "  </tbody>\n",
       "</table>\n",
       "</div>"
      ],
      "text/plain": [
       "                                        song_name song_artist    BPM  energy  \\\n",
       "0  Big Bank feat. 2 Chainz, Big Sean, Nicki Minaj          YG 203.93    0.34   \n",
       "1                    BAND DRUM (feat. A$AP Rocky)          YG 159.01    0.56   \n",
       "2                                   Radio Silence       R3HAB 114.97    0.72   \n",
       "\n",
       "   loudness  liveness  valence  song_duration  acousticness  speechiness  \n",
       "0     -7.68      0.08     0.12         238373          0.01         0.41  \n",
       "1     -7.26      0.29     0.37         214800          0.02         0.46  \n",
       "2     -5.89      0.08     0.38         138913          0.03         0.05  "
      ]
     },
     "execution_count": 8,
     "metadata": {},
     "output_type": "execute_result"
    }
   ],
   "source": [
    "moredf.head(3)"
   ]
  },
  {
   "cell_type": "code",
   "execution_count": 9,
   "metadata": {},
   "outputs": [
    {
     "data": {
      "text/html": [
       "<div>\n",
       "<style scoped>\n",
       "    .dataframe tbody tr th:only-of-type {\n",
       "        vertical-align: middle;\n",
       "    }\n",
       "\n",
       "    .dataframe tbody tr th {\n",
       "        vertical-align: top;\n",
       "    }\n",
       "\n",
       "    .dataframe thead th {\n",
       "        text-align: right;\n",
       "    }\n",
       "</style>\n",
       "<table border=\"1\" class=\"dataframe\">\n",
       "  <thead>\n",
       "    <tr style=\"text-align: right;\">\n",
       "      <th></th>\n",
       "      <th>song_name</th>\n",
       "      <th>artist_name</th>\n",
       "      <th>streams</th>\n",
       "    </tr>\n",
       "  </thead>\n",
       "  <tbody>\n",
       "    <tr>\n",
       "      <th>0</th>\n",
       "      <td>Despacito (Featuring Daddy Yankee)</td>\n",
       "      <td>Luis Fonsi</td>\n",
       "      <td>365941.00</td>\n",
       "    </tr>\n",
       "    <tr>\n",
       "      <th>1</th>\n",
       "      <td>El Amante</td>\n",
       "      <td>Nicky Jam</td>\n",
       "      <td>179697.00</td>\n",
       "    </tr>\n",
       "    <tr>\n",
       "      <th>2</th>\n",
       "      <td>Reggaetón Lento (Bailemos)</td>\n",
       "      <td>CNCO</td>\n",
       "      <td>169647.00</td>\n",
       "    </tr>\n",
       "  </tbody>\n",
       "</table>\n",
       "</div>"
      ],
      "text/plain": [
       "                            song_name artist_name   streams\n",
       "0  Despacito (Featuring Daddy Yankee)  Luis Fonsi 365941.00\n",
       "1                           El Amante   Nicky Jam 179697.00\n",
       "2          Reggaetón Lento (Bailemos)        CNCO 169647.00"
      ]
     },
     "execution_count": 9,
     "metadata": {},
     "output_type": "execute_result"
    }
   ],
   "source": [
    "songs.head(3)"
   ]
  },
  {
   "cell_type": "markdown",
   "metadata": {},
   "source": [
    "Both data sets were made using the same Spotify API thus the values of each column are calculated in a standard way across the data sets. However the values in some columns were manipulated to better serve the purpose of their original creator.\n",
    "Next, in order to make the datasets for uniformed we will look for one song that is contained in both datasets then adjust values accordingly to uniform both sets."
   ]
  },
  {
   "cell_type": "code",
   "execution_count": 10,
   "metadata": {},
   "outputs": [
    {
     "data": {
      "text/plain": [
       "song_name              bad guy\n",
       "song_artist      Billie Eilish\n",
       "BPM                        135\n",
       "energy                      43\n",
       "loudness                   -11\n",
       "liveness                    10\n",
       "valence                     56\n",
       "song_duration              194\n",
       "acousticness                33\n",
       "speechiness                 38\n",
       "Name: 786, dtype: object"
      ]
     },
     "execution_count": 10,
     "metadata": {},
     "output_type": "execute_result"
    }
   ],
   "source": [
    "for i in range(len(hundf.song_name)):\n",
    "    if 'bad guy' == hundf.song_name[i]:\n",
    "        indx = i\n",
    "hundf.iloc[indx]"
   ]
  },
  {
   "cell_type": "code",
   "execution_count": 11,
   "metadata": {},
   "outputs": [
    {
     "data": {
      "text/plain": [
       "song_name              bad guy\n",
       "song_artist      Billie Eilish\n",
       "BPM                     131.93\n",
       "energy                    0.42\n",
       "loudness                -11.00\n",
       "liveness                  0.10\n",
       "valence                   0.58\n",
       "song_duration           194088\n",
       "acousticness              0.31\n",
       "speechiness               0.37\n",
       "Name: 99368, dtype: object"
      ]
     },
     "execution_count": 11,
     "metadata": {},
     "output_type": "execute_result"
    }
   ],
   "source": [
    "for i in range(len(moredf.song_name)):\n",
    "    if 'bad guy' == moredf.song_name[i]:\n",
    "        indx = i\n",
    "moredf.iloc[indx]"
   ]
  },
  {
   "cell_type": "code",
   "execution_count": 12,
   "metadata": {},
   "outputs": [
    {
     "data": {
      "text/plain": [
       "song_name         object\n",
       "song_artist       object\n",
       "BPM              float64\n",
       "energy             int64\n",
       "loudness         float64\n",
       "liveness           int64\n",
       "valence            int64\n",
       "song_duration    float32\n",
       "acousticness       int64\n",
       "speechiness        int64\n",
       "dtype: object"
      ]
     },
     "execution_count": 12,
     "metadata": {},
     "output_type": "execute_result"
    }
   ],
   "source": [
    "# Dataset one will be set to match values of dataset two witht the following functions.This is because it will be easier to visualize.\n",
    "hundf['song_duration'] = hundf['song_duration'].apply(pd.to_numeric, downcast='float', errors='coerce')\n",
    "moredf['song_duration'] = moredf['song_duration'].apply(pd.to_numeric, downcast='float', errors='coerce')\n",
    "def standardize_BPM(val):\n",
    "    try:\n",
    "        output = val * .97722963 \n",
    "       \n",
    "    except:\n",
    "        output = np.nan\n",
    "        \n",
    "    return output\n",
    "\n",
    "def standardize_loud(val):\n",
    "    try:\n",
    "        output = val / 1.0001851\n",
    "       \n",
    "    except:\n",
    "        output = np.nan\n",
    "        \n",
    "    return output\n",
    "# Dataset two will be set to match values of dataset one with the following functions. This is because it will be easier to visualize.\n",
    "def standardize_energy(val):\n",
    "    try:\n",
    "        output = val * 102.8708134\n",
    "  \n",
    "    except:\n",
    "        output = np.nan\n",
    "        \n",
    "    return output\n",
    "def standardize_live(val):\n",
    "    try:\n",
    "        output = val * 100\n",
    "    \n",
    "    except:\n",
    "        output = np.nan\n",
    "        \n",
    "    return output\n",
    "def standardize_valence(val):\n",
    "    try:\n",
    "        output = (val * 100)- 1.8\n",
    "       \n",
    "    except:\n",
    "        output = np.nan\n",
    "        \n",
    "    return output \n",
    "\n",
    "def standardize_dur(val):\n",
    "    try:\n",
    "        output = int(val / 1000.4536)\n",
    "       \n",
    "    except:\n",
    "        output = np.nan\n",
    "        \n",
    "    return output  \n",
    "\n",
    "def standardize_acou(val):\n",
    "    try:\n",
    "        output = val * 107.142857\n",
    "      \n",
    "    except:\n",
    "        output = np.nan\n",
    "        \n",
    "    return output \n",
    "\n",
    "def standardize_speech(val):\n",
    "    try:\n",
    "        output = val * 103.26086\n",
    "      \n",
    "    except:\n",
    "        output = np.nan\n",
    "        \n",
    "    return output \n",
    "# Now we will run the functions\n",
    "hundf['BPM'] = hundf['BPM'].apply(standardize_BPM)\n",
    "hundf['loudness'] = hundf['loudness'].apply(standardize_loud)\n",
    "moredf['energy'] = moredf['energy'].apply(standardize_energy)\n",
    "moredf['liveness'] = moredf['liveness'].apply(standardize_live)\n",
    "moredf['valence'] = moredf['valence'].apply(standardize_valence)\n",
    "moredf['song_duration'] = moredf['song_duration'].apply(standardize_dur)\n",
    "moredf['acousticness'] = moredf['acousticness'].apply(standardize_acou)\n",
    "moredf['speechiness'] = moredf['speechiness'].apply(standardize_speech)\n",
    "\n",
    "hundf.dtypes"
   ]
  },
  {
   "cell_type": "markdown",
   "metadata": {},
   "source": [
    "To make sure our functions worked correctly let us revisit our chosen song and compare the reworked values."
   ]
  },
  {
   "cell_type": "code",
   "execution_count": 13,
   "metadata": {},
   "outputs": [
    {
     "name": "stdout",
     "output_type": "stream",
     "text": [
      "song_name              bad guy\n",
      "song_artist      Billie Eilish\n",
      "BPM                     131.93\n",
      "energy                      43\n",
      "loudness                -11.00\n",
      "liveness                    10\n",
      "valence                     56\n",
      "song_duration           194.00\n",
      "acousticness                33\n",
      "speechiness                 38\n",
      "Name: 786, dtype: object\n",
      "song_name              bad guy\n",
      "song_artist      Billie Eilish\n",
      "BPM                     131.93\n",
      "energy                   43.00\n",
      "loudness                -11.00\n",
      "liveness                 10.00\n",
      "valence                  56.00\n",
      "song_duration              194\n",
      "acousticness             33.00\n",
      "speechiness              38.00\n",
      "Name: 99368, dtype: object\n"
     ]
    }
   ],
   "source": [
    "for i in range(len(moredf.song_name)):\n",
    "    if 'bad guy' == moredf.song_name[i]:\n",
    "        indx = i\n",
    "Billie2 = moredf.iloc[indx]\n",
    "for i in range(len(hundf.song_name)):\n",
    "    if 'bad guy' == hundf.song_name[i]:\n",
    "        indx = i\n",
    "Billie1 = hundf.iloc[indx]\n",
    "print(Billie1)\n",
    "print(Billie2)"
   ]
  },
  {
   "cell_type": "code",
   "execution_count": 14,
   "metadata": {},
   "outputs": [],
   "source": [
    "hundf = hundf.round(2)\n",
    "hundf = hundf.dropna()\n",
    "moredf = moredf.round(2)\n",
    "moredf = moredf.dropna()\n"
   ]
  },
  {
   "cell_type": "markdown",
   "metadata": {},
   "source": [
    "Now we want to merge our datasets in the event we want to do some manipulations later."
   ]
  },
  {
   "cell_type": "code",
   "execution_count": 15,
   "metadata": {},
   "outputs": [],
   "source": [
    "hundf['top2000']= True\n",
    "moredf['top2000'] = False\n",
    "\n",
    "jointdataf = [hundf,moredf]\n",
    "jointdf = pd.concat(jointdataf)"
   ]
  },
  {
   "cell_type": "code",
   "execution_count": 16,
   "metadata": {},
   "outputs": [
    {
     "data": {
      "text/html": [
       "<div>\n",
       "<style scoped>\n",
       "    .dataframe tbody tr th:only-of-type {\n",
       "        vertical-align: middle;\n",
       "    }\n",
       "\n",
       "    .dataframe tbody tr th {\n",
       "        vertical-align: top;\n",
       "    }\n",
       "\n",
       "    .dataframe thead th {\n",
       "        text-align: right;\n",
       "    }\n",
       "</style>\n",
       "<table border=\"1\" class=\"dataframe\">\n",
       "  <thead>\n",
       "    <tr style=\"text-align: right;\">\n",
       "      <th></th>\n",
       "      <th>song_name</th>\n",
       "      <th>song_artist</th>\n",
       "      <th>BPM</th>\n",
       "      <th>energy</th>\n",
       "      <th>loudness</th>\n",
       "      <th>liveness</th>\n",
       "      <th>valence</th>\n",
       "      <th>song_duration</th>\n",
       "      <th>acousticness</th>\n",
       "      <th>speechiness</th>\n",
       "      <th>top2000</th>\n",
       "    </tr>\n",
       "  </thead>\n",
       "  <tbody>\n",
       "    <tr>\n",
       "      <th>786</th>\n",
       "      <td>bad guy</td>\n",
       "      <td>Billie Eilish</td>\n",
       "      <td>131.93</td>\n",
       "      <td>43.00</td>\n",
       "      <td>-11.00</td>\n",
       "      <td>10.00</td>\n",
       "      <td>56.00</td>\n",
       "      <td>194.00</td>\n",
       "      <td>33.00</td>\n",
       "      <td>38.00</td>\n",
       "      <td>True</td>\n",
       "    </tr>\n",
       "  </tbody>\n",
       "</table>\n",
       "</div>"
      ],
      "text/plain": [
       "    song_name    song_artist    BPM  energy  loudness  liveness  valence  \\\n",
       "786   bad guy  Billie Eilish 131.93   43.00    -11.00     10.00    56.00   \n",
       "\n",
       "     song_duration  acousticness  speechiness  top2000  \n",
       "786         194.00         33.00        38.00     True  "
      ]
     },
     "execution_count": 16,
     "metadata": {},
     "output_type": "execute_result"
    }
   ],
   "source": [
    "jointdf.song_name.duplicated()\n",
    "jointdf = jointdf.drop_duplicates(subset=['song_name'])\n",
    "jointdf = jointdf[jointdf.song_duration != 0]\n",
    "jointdf.loc[jointdf['song_name'] == 'bad guy']"
   ]
  },
  {
   "cell_type": "code",
   "execution_count": 17,
   "metadata": {},
   "outputs": [
    {
     "data": {
      "text/html": [
       "<div>\n",
       "<style scoped>\n",
       "    .dataframe tbody tr th:only-of-type {\n",
       "        vertical-align: middle;\n",
       "    }\n",
       "\n",
       "    .dataframe tbody tr th {\n",
       "        vertical-align: top;\n",
       "    }\n",
       "\n",
       "    .dataframe thead th {\n",
       "        text-align: right;\n",
       "    }\n",
       "</style>\n",
       "<table border=\"1\" class=\"dataframe\">\n",
       "  <thead>\n",
       "    <tr style=\"text-align: right;\">\n",
       "      <th></th>\n",
       "      <th>song_name</th>\n",
       "      <th>song_artist</th>\n",
       "      <th>BPM</th>\n",
       "      <th>energy</th>\n",
       "      <th>loudness</th>\n",
       "      <th>liveness</th>\n",
       "      <th>valence</th>\n",
       "      <th>song_duration</th>\n",
       "      <th>acousticness</th>\n",
       "      <th>speechiness</th>\n",
       "      <th>top2000</th>\n",
       "    </tr>\n",
       "  </thead>\n",
       "  <tbody>\n",
       "    <tr>\n",
       "      <th>0</th>\n",
       "      <td>Sunrise</td>\n",
       "      <td>Norah Jones</td>\n",
       "      <td>153.43</td>\n",
       "      <td>30</td>\n",
       "      <td>-14.00</td>\n",
       "      <td>11</td>\n",
       "      <td>68</td>\n",
       "      <td>201.00</td>\n",
       "      <td>94</td>\n",
       "      <td>3</td>\n",
       "      <td>True</td>\n",
       "    </tr>\n",
       "    <tr>\n",
       "      <th>1</th>\n",
       "      <td>Black Night</td>\n",
       "      <td>Deep Purple</td>\n",
       "      <td>131.93</td>\n",
       "      <td>79</td>\n",
       "      <td>-11.00</td>\n",
       "      <td>17</td>\n",
       "      <td>81</td>\n",
       "      <td>207.00</td>\n",
       "      <td>17</td>\n",
       "      <td>7</td>\n",
       "      <td>True</td>\n",
       "    </tr>\n",
       "    <tr>\n",
       "      <th>2</th>\n",
       "      <td>Clint Eastwood</td>\n",
       "      <td>Gorillaz</td>\n",
       "      <td>164.17</td>\n",
       "      <td>69</td>\n",
       "      <td>-9.00</td>\n",
       "      <td>7</td>\n",
       "      <td>52</td>\n",
       "      <td>341.00</td>\n",
       "      <td>2</td>\n",
       "      <td>17</td>\n",
       "      <td>True</td>\n",
       "    </tr>\n",
       "    <tr>\n",
       "      <th>3</th>\n",
       "      <td>The Pretender</td>\n",
       "      <td>Foo Fighters</td>\n",
       "      <td>169.06</td>\n",
       "      <td>96</td>\n",
       "      <td>-4.00</td>\n",
       "      <td>3</td>\n",
       "      <td>37</td>\n",
       "      <td>269.00</td>\n",
       "      <td>0</td>\n",
       "      <td>4</td>\n",
       "      <td>True</td>\n",
       "    </tr>\n",
       "    <tr>\n",
       "      <th>4</th>\n",
       "      <td>Waitin' On A Sunny Day</td>\n",
       "      <td>Bruce Springsteen</td>\n",
       "      <td>103.59</td>\n",
       "      <td>82</td>\n",
       "      <td>-5.00</td>\n",
       "      <td>10</td>\n",
       "      <td>87</td>\n",
       "      <td>256.00</td>\n",
       "      <td>1</td>\n",
       "      <td>3</td>\n",
       "      <td>True</td>\n",
       "    </tr>\n",
       "  </tbody>\n",
       "</table>\n",
       "</div>"
      ],
      "text/plain": [
       "                song_name        song_artist    BPM  energy  loudness  \\\n",
       "0                 Sunrise        Norah Jones 153.43      30    -14.00   \n",
       "1             Black Night        Deep Purple 131.93      79    -11.00   \n",
       "2          Clint Eastwood           Gorillaz 164.17      69     -9.00   \n",
       "3           The Pretender       Foo Fighters 169.06      96     -4.00   \n",
       "4  Waitin' On A Sunny Day  Bruce Springsteen 103.59      82     -5.00   \n",
       "\n",
       "   liveness  valence  song_duration  acousticness  speechiness  top2000  \n",
       "0        11       68         201.00            94            3     True  \n",
       "1        17       81         207.00            17            7     True  \n",
       "2         7       52         341.00             2           17     True  \n",
       "3         3       37         269.00             0            4     True  \n",
       "4        10       87         256.00             1            3     True  "
      ]
     },
     "execution_count": 17,
     "metadata": {},
     "output_type": "execute_result"
    }
   ],
   "source": [
    "hundf.head()"
   ]
  },
  {
   "cell_type": "code",
   "execution_count": 18,
   "metadata": {},
   "outputs": [
    {
     "data": {
      "text/html": [
       "<div>\n",
       "<style scoped>\n",
       "    .dataframe tbody tr th:only-of-type {\n",
       "        vertical-align: middle;\n",
       "    }\n",
       "\n",
       "    .dataframe tbody tr th {\n",
       "        vertical-align: top;\n",
       "    }\n",
       "\n",
       "    .dataframe thead th {\n",
       "        text-align: right;\n",
       "    }\n",
       "</style>\n",
       "<table border=\"1\" class=\"dataframe\">\n",
       "  <thead>\n",
       "    <tr style=\"text-align: right;\">\n",
       "      <th></th>\n",
       "      <th>song_name</th>\n",
       "      <th>song_artist</th>\n",
       "      <th>BPM</th>\n",
       "      <th>energy</th>\n",
       "      <th>loudness</th>\n",
       "      <th>liveness</th>\n",
       "      <th>valence</th>\n",
       "      <th>song_duration</th>\n",
       "      <th>acousticness</th>\n",
       "      <th>speechiness</th>\n",
       "      <th>top2000</th>\n",
       "    </tr>\n",
       "  </thead>\n",
       "  <tbody>\n",
       "    <tr>\n",
       "      <th>130658</th>\n",
       "      <td>Come Back Home</td>\n",
       "      <td>Calum Scott</td>\n",
       "      <td>131.05</td>\n",
       "      <td>82.40</td>\n",
       "      <td>-5.17</td>\n",
       "      <td>9.91</td>\n",
       "      <td>27.10</td>\n",
       "      <td>190</td>\n",
       "      <td>0.73</td>\n",
       "      <td>3.34</td>\n",
       "      <td>False</td>\n",
       "    </tr>\n",
       "    <tr>\n",
       "      <th>130659</th>\n",
       "      <td>Enough for You</td>\n",
       "      <td>Saint Claire</td>\n",
       "      <td>94.04</td>\n",
       "      <td>25.61</td>\n",
       "      <td>-13.23</td>\n",
       "      <td>10.30</td>\n",
       "      <td>32.80</td>\n",
       "      <td>194</td>\n",
       "      <td>98.36</td>\n",
       "      <td>4.51</td>\n",
       "      <td>False</td>\n",
       "    </tr>\n",
       "    <tr>\n",
       "      <th>130660</th>\n",
       "      <td>Do It</td>\n",
       "      <td>Mike Stud</td>\n",
       "      <td>156.98</td>\n",
       "      <td>54.73</td>\n",
       "      <td>-8.35</td>\n",
       "      <td>9.97</td>\n",
       "      <td>52.80</td>\n",
       "      <td>139</td>\n",
       "      <td>35.36</td>\n",
       "      <td>21.27</td>\n",
       "      <td>False</td>\n",
       "    </tr>\n",
       "    <tr>\n",
       "      <th>130661</th>\n",
       "      <td>No Smoke</td>\n",
       "      <td>D Savage</td>\n",
       "      <td>120.05</td>\n",
       "      <td>52.46</td>\n",
       "      <td>-9.67</td>\n",
       "      <td>13.10</td>\n",
       "      <td>5.75</td>\n",
       "      <td>179</td>\n",
       "      <td>0.85</td>\n",
       "      <td>12.39</td>\n",
       "      <td>False</td>\n",
       "    </tr>\n",
       "    <tr>\n",
       "      <th>130662</th>\n",
       "      <td>En Vida</td>\n",
       "      <td>Banda Los Sebastianes</td>\n",
       "      <td>130.13</td>\n",
       "      <td>75.51</td>\n",
       "      <td>-3.24</td>\n",
       "      <td>10.80</td>\n",
       "      <td>95.80</td>\n",
       "      <td>145</td>\n",
       "      <td>58.82</td>\n",
       "      <td>3.79</td>\n",
       "      <td>False</td>\n",
       "    </tr>\n",
       "  </tbody>\n",
       "</table>\n",
       "</div>"
      ],
      "text/plain": [
       "             song_name            song_artist    BPM  energy  loudness  \\\n",
       "130658  Come Back Home            Calum Scott 131.05   82.40     -5.17   \n",
       "130659  Enough for You           Saint Claire  94.04   25.61    -13.23   \n",
       "130660           Do It              Mike Stud 156.98   54.73     -8.35   \n",
       "130661        No Smoke               D Savage 120.05   52.46     -9.67   \n",
       "130662         En Vida  Banda Los Sebastianes 130.13   75.51     -3.24   \n",
       "\n",
       "        liveness  valence  song_duration  acousticness  speechiness  top2000  \n",
       "130658      9.91    27.10            190          0.73         3.34    False  \n",
       "130659     10.30    32.80            194         98.36         4.51    False  \n",
       "130660      9.97    52.80            139         35.36        21.27    False  \n",
       "130661     13.10     5.75            179          0.85        12.39    False  \n",
       "130662     10.80    95.80            145         58.82         3.79    False  "
      ]
     },
     "execution_count": 18,
     "metadata": {},
     "output_type": "execute_result"
    }
   ],
   "source": [
    "moredf.tail()"
   ]
  },
  {
   "cell_type": "code",
   "execution_count": 19,
   "metadata": {},
   "outputs": [
    {
     "data": {
      "text/html": [
       "<div>\n",
       "<style scoped>\n",
       "    .dataframe tbody tr th:only-of-type {\n",
       "        vertical-align: middle;\n",
       "    }\n",
       "\n",
       "    .dataframe tbody tr th {\n",
       "        vertical-align: top;\n",
       "    }\n",
       "\n",
       "    .dataframe thead th {\n",
       "        text-align: right;\n",
       "    }\n",
       "</style>\n",
       "<table border=\"1\" class=\"dataframe\">\n",
       "  <thead>\n",
       "    <tr style=\"text-align: right;\">\n",
       "      <th></th>\n",
       "      <th>song_name</th>\n",
       "      <th>song_artist</th>\n",
       "      <th>BPM</th>\n",
       "      <th>energy</th>\n",
       "      <th>loudness</th>\n",
       "      <th>liveness</th>\n",
       "      <th>valence</th>\n",
       "      <th>song_duration</th>\n",
       "      <th>acousticness</th>\n",
       "      <th>speechiness</th>\n",
       "      <th>top2000</th>\n",
       "    </tr>\n",
       "  </thead>\n",
       "  <tbody>\n",
       "    <tr>\n",
       "      <th>0</th>\n",
       "      <td>Sunrise</td>\n",
       "      <td>Norah Jones</td>\n",
       "      <td>153.43</td>\n",
       "      <td>30.00</td>\n",
       "      <td>-14.00</td>\n",
       "      <td>11.00</td>\n",
       "      <td>68.00</td>\n",
       "      <td>201.00</td>\n",
       "      <td>94.00</td>\n",
       "      <td>3.00</td>\n",
       "      <td>True</td>\n",
       "    </tr>\n",
       "    <tr>\n",
       "      <th>1</th>\n",
       "      <td>Black Night</td>\n",
       "      <td>Deep Purple</td>\n",
       "      <td>131.93</td>\n",
       "      <td>79.00</td>\n",
       "      <td>-11.00</td>\n",
       "      <td>17.00</td>\n",
       "      <td>81.00</td>\n",
       "      <td>207.00</td>\n",
       "      <td>17.00</td>\n",
       "      <td>7.00</td>\n",
       "      <td>True</td>\n",
       "    </tr>\n",
       "    <tr>\n",
       "      <th>2</th>\n",
       "      <td>Clint Eastwood</td>\n",
       "      <td>Gorillaz</td>\n",
       "      <td>164.17</td>\n",
       "      <td>69.00</td>\n",
       "      <td>-9.00</td>\n",
       "      <td>7.00</td>\n",
       "      <td>52.00</td>\n",
       "      <td>341.00</td>\n",
       "      <td>2.00</td>\n",
       "      <td>17.00</td>\n",
       "      <td>True</td>\n",
       "    </tr>\n",
       "    <tr>\n",
       "      <th>3</th>\n",
       "      <td>The Pretender</td>\n",
       "      <td>Foo Fighters</td>\n",
       "      <td>169.06</td>\n",
       "      <td>96.00</td>\n",
       "      <td>-4.00</td>\n",
       "      <td>3.00</td>\n",
       "      <td>37.00</td>\n",
       "      <td>269.00</td>\n",
       "      <td>0.00</td>\n",
       "      <td>4.00</td>\n",
       "      <td>True</td>\n",
       "    </tr>\n",
       "    <tr>\n",
       "      <th>4</th>\n",
       "      <td>Waitin' On A Sunny Day</td>\n",
       "      <td>Bruce Springsteen</td>\n",
       "      <td>103.59</td>\n",
       "      <td>82.00</td>\n",
       "      <td>-5.00</td>\n",
       "      <td>10.00</td>\n",
       "      <td>87.00</td>\n",
       "      <td>256.00</td>\n",
       "      <td>1.00</td>\n",
       "      <td>3.00</td>\n",
       "      <td>True</td>\n",
       "    </tr>\n",
       "  </tbody>\n",
       "</table>\n",
       "</div>"
      ],
      "text/plain": [
       "                song_name        song_artist    BPM  energy  loudness  \\\n",
       "0                 Sunrise        Norah Jones 153.43   30.00    -14.00   \n",
       "1             Black Night        Deep Purple 131.93   79.00    -11.00   \n",
       "2          Clint Eastwood           Gorillaz 164.17   69.00     -9.00   \n",
       "3           The Pretender       Foo Fighters 169.06   96.00     -4.00   \n",
       "4  Waitin' On A Sunny Day  Bruce Springsteen 103.59   82.00     -5.00   \n",
       "\n",
       "   liveness  valence  song_duration  acousticness  speechiness  top2000  \n",
       "0     11.00    68.00         201.00         94.00         3.00     True  \n",
       "1     17.00    81.00         207.00         17.00         7.00     True  \n",
       "2      7.00    52.00         341.00          2.00        17.00     True  \n",
       "3      3.00    37.00         269.00          0.00         4.00     True  \n",
       "4     10.00    87.00         256.00          1.00         3.00     True  "
      ]
     },
     "execution_count": 19,
     "metadata": {},
     "output_type": "execute_result"
    }
   ],
   "source": [
    "jointdf.head()"
   ]
  },
  {
   "cell_type": "markdown",
   "metadata": {},
   "source": [
    "Now we want to make sure our songs have the total amount of streams available to access in our analysis. To do this we will merge our third dataset with our joint df."
   ]
  },
  {
   "cell_type": "code",
   "execution_count": 20,
   "metadata": {},
   "outputs": [
    {
     "data": {
      "text/html": [
       "<div>\n",
       "<style scoped>\n",
       "    .dataframe tbody tr th:only-of-type {\n",
       "        vertical-align: middle;\n",
       "    }\n",
       "\n",
       "    .dataframe tbody tr th {\n",
       "        vertical-align: top;\n",
       "    }\n",
       "\n",
       "    .dataframe thead th {\n",
       "        text-align: right;\n",
       "    }\n",
       "</style>\n",
       "<table border=\"1\" class=\"dataframe\">\n",
       "  <thead>\n",
       "    <tr style=\"text-align: right;\">\n",
       "      <th></th>\n",
       "      <th>song_name</th>\n",
       "      <th>totstream</th>\n",
       "    </tr>\n",
       "  </thead>\n",
       "  <tbody>\n",
       "    <tr>\n",
       "      <th>0</th>\n",
       "      <td>Despacito (Featuring Daddy Yankee)</td>\n",
       "      <td>1551188720.00</td>\n",
       "    </tr>\n",
       "    <tr>\n",
       "      <th>1</th>\n",
       "      <td>El Amante</td>\n",
       "      <td>516500424.00</td>\n",
       "    </tr>\n",
       "    <tr>\n",
       "      <th>2</th>\n",
       "      <td>Reggaetón Lento (Bailemos)</td>\n",
       "      <td>446947086.00</td>\n",
       "    </tr>\n",
       "    <tr>\n",
       "      <th>3</th>\n",
       "      <td>Shape of You</td>\n",
       "      <td>5195020979.00</td>\n",
       "    </tr>\n",
       "    <tr>\n",
       "      <th>4</th>\n",
       "      <td>Chantaje (feat. Maluma)</td>\n",
       "      <td>598463852.00</td>\n",
       "    </tr>\n",
       "    <tr>\n",
       "      <th>...</th>\n",
       "      <td>...</td>\n",
       "      <td>...</td>\n",
       "    </tr>\n",
       "    <tr>\n",
       "      <th>21788482</th>\n",
       "      <td>Lämna Han</td>\n",
       "      <td>17769.00</td>\n",
       "    </tr>\n",
       "    <tr>\n",
       "      <th>21788491</th>\n",
       "      <td>Fläta/Inte mitt krig</td>\n",
       "      <td>16932.00</td>\n",
       "    </tr>\n",
       "    <tr>\n",
       "      <th>21789022</th>\n",
       "      <td>ยอมแล้ว (Give up)</td>\n",
       "      <td>9788.00</td>\n",
       "    </tr>\n",
       "    <tr>\n",
       "      <th>21789250</th>\n",
       "      <td>Toprak Yağmura (Akustik)</td>\n",
       "      <td>43318.00</td>\n",
       "    </tr>\n",
       "    <tr>\n",
       "      <th>21794254</th>\n",
       "      <td>Shorcito</td>\n",
       "      <td>1972.00</td>\n",
       "    </tr>\n",
       "  </tbody>\n",
       "</table>\n",
       "<p>88904 rows × 2 columns</p>\n",
       "</div>"
      ],
      "text/plain": [
       "                                   song_name     totstream\n",
       "0         Despacito (Featuring Daddy Yankee) 1551188720.00\n",
       "1                                  El Amante  516500424.00\n",
       "2                 Reggaetón Lento (Bailemos)  446947086.00\n",
       "3                               Shape of You 5195020979.00\n",
       "4                    Chantaje (feat. Maluma)  598463852.00\n",
       "...                                      ...           ...\n",
       "21788482                           Lämna Han      17769.00\n",
       "21788491                Fläta/Inte mitt krig      16932.00\n",
       "21789022                   ยอมแล้ว (Give up)       9788.00\n",
       "21789250            Toprak Yağmura (Akustik)      43318.00\n",
       "21794254                            Shorcito       1972.00\n",
       "\n",
       "[88904 rows x 2 columns]"
      ]
     },
     "execution_count": 20,
     "metadata": {},
     "output_type": "execute_result"
    }
   ],
   "source": [
    "songs['totstream'] = songs.groupby(['song_name'])['streams'].transform('sum')\n",
    "songs = songs[songs.totstream != 0]\n",
    "songs.song_name.duplicated()\n",
    "songs = songs.drop_duplicates(subset=['song_name'])\n",
    "songs = songs[['song_name','totstream']]\n",
    "songs"
   ]
  },
  {
   "cell_type": "code",
   "execution_count": 21,
   "metadata": {},
   "outputs": [
    {
     "data": {
      "text/html": [
       "<div>\n",
       "<style scoped>\n",
       "    .dataframe tbody tr th:only-of-type {\n",
       "        vertical-align: middle;\n",
       "    }\n",
       "\n",
       "    .dataframe tbody tr th {\n",
       "        vertical-align: top;\n",
       "    }\n",
       "\n",
       "    .dataframe thead th {\n",
       "        text-align: right;\n",
       "    }\n",
       "</style>\n",
       "<table border=\"1\" class=\"dataframe\">\n",
       "  <thead>\n",
       "    <tr style=\"text-align: right;\">\n",
       "      <th></th>\n",
       "      <th>song_name</th>\n",
       "      <th>song_artist</th>\n",
       "      <th>BPM</th>\n",
       "      <th>energy</th>\n",
       "      <th>loudness</th>\n",
       "      <th>liveness</th>\n",
       "      <th>valence</th>\n",
       "      <th>song_duration</th>\n",
       "      <th>acousticness</th>\n",
       "      <th>speechiness</th>\n",
       "      <th>top2000</th>\n",
       "      <th>totstream</th>\n",
       "    </tr>\n",
       "  </thead>\n",
       "  <tbody>\n",
       "    <tr>\n",
       "      <th>0</th>\n",
       "      <td>Sunrise</td>\n",
       "      <td>Norah Jones</td>\n",
       "      <td>153.43</td>\n",
       "      <td>30.00</td>\n",
       "      <td>-14.00</td>\n",
       "      <td>11.00</td>\n",
       "      <td>68.00</td>\n",
       "      <td>201.00</td>\n",
       "      <td>94.00</td>\n",
       "      <td>3.00</td>\n",
       "      <td>True</td>\n",
       "      <td>865457.00</td>\n",
       "    </tr>\n",
       "    <tr>\n",
       "      <th>2</th>\n",
       "      <td>Clint Eastwood</td>\n",
       "      <td>Gorillaz</td>\n",
       "      <td>164.17</td>\n",
       "      <td>69.00</td>\n",
       "      <td>-9.00</td>\n",
       "      <td>7.00</td>\n",
       "      <td>52.00</td>\n",
       "      <td>341.00</td>\n",
       "      <td>2.00</td>\n",
       "      <td>17.00</td>\n",
       "      <td>True</td>\n",
       "      <td>522873.00</td>\n",
       "    </tr>\n",
       "    <tr>\n",
       "      <th>3</th>\n",
       "      <td>The Pretender</td>\n",
       "      <td>Foo Fighters</td>\n",
       "      <td>169.06</td>\n",
       "      <td>96.00</td>\n",
       "      <td>-4.00</td>\n",
       "      <td>3.00</td>\n",
       "      <td>37.00</td>\n",
       "      <td>269.00</td>\n",
       "      <td>0.00</td>\n",
       "      <td>4.00</td>\n",
       "      <td>True</td>\n",
       "      <td>461580.00</td>\n",
       "    </tr>\n",
       "    <tr>\n",
       "      <th>8</th>\n",
       "      <td>Mr. Brightside</td>\n",
       "      <td>The Killers</td>\n",
       "      <td>144.63</td>\n",
       "      <td>92.00</td>\n",
       "      <td>-4.00</td>\n",
       "      <td>10.00</td>\n",
       "      <td>23.00</td>\n",
       "      <td>223.00</td>\n",
       "      <td>0.00</td>\n",
       "      <td>8.00</td>\n",
       "      <td>True</td>\n",
       "      <td>749391763.00</td>\n",
       "    </tr>\n",
       "    <tr>\n",
       "      <th>9</th>\n",
       "      <td>Without Me</td>\n",
       "      <td>Eminem</td>\n",
       "      <td>109.45</td>\n",
       "      <td>67.00</td>\n",
       "      <td>-3.00</td>\n",
       "      <td>24.00</td>\n",
       "      <td>66.00</td>\n",
       "      <td>290.00</td>\n",
       "      <td>0.00</td>\n",
       "      <td>7.00</td>\n",
       "      <td>True</td>\n",
       "      <td>2148389904.00</td>\n",
       "    </tr>\n",
       "    <tr>\n",
       "      <th>...</th>\n",
       "      <td>...</td>\n",
       "      <td>...</td>\n",
       "      <td>...</td>\n",
       "      <td>...</td>\n",
       "      <td>...</td>\n",
       "      <td>...</td>\n",
       "      <td>...</td>\n",
       "      <td>...</td>\n",
       "      <td>...</td>\n",
       "      <td>...</td>\n",
       "      <td>...</td>\n",
       "      <td>...</td>\n",
       "    </tr>\n",
       "    <tr>\n",
       "      <th>110202</th>\n",
       "      <td>I Get Lonely</td>\n",
       "      <td>Kodak Black</td>\n",
       "      <td>132.10</td>\n",
       "      <td>61.21</td>\n",
       "      <td>-4.19</td>\n",
       "      <td>10.00</td>\n",
       "      <td>36.20</td>\n",
       "      <td>213.00</td>\n",
       "      <td>65.57</td>\n",
       "      <td>16.11</td>\n",
       "      <td>False</td>\n",
       "      <td>2106394.00</td>\n",
       "    </tr>\n",
       "    <tr>\n",
       "      <th>110232</th>\n",
       "      <td>Atrasadinha - Ao Vivo</td>\n",
       "      <td>Felipe Araújo</td>\n",
       "      <td>159.97</td>\n",
       "      <td>86.82</td>\n",
       "      <td>-3.40</td>\n",
       "      <td>86.60</td>\n",
       "      <td>69.80</td>\n",
       "      <td>172.00</td>\n",
       "      <td>53.36</td>\n",
       "      <td>11.26</td>\n",
       "      <td>False</td>\n",
       "      <td>209931526.00</td>\n",
       "    </tr>\n",
       "    <tr>\n",
       "      <th>110249</th>\n",
       "      <td>Báilame</td>\n",
       "      <td>Nacho</td>\n",
       "      <td>96.01</td>\n",
       "      <td>89.39</td>\n",
       "      <td>-5.01</td>\n",
       "      <td>5.38</td>\n",
       "      <td>53.10</td>\n",
       "      <td>206.00</td>\n",
       "      <td>15.96</td>\n",
       "      <td>14.87</td>\n",
       "      <td>False</td>\n",
       "      <td>167134601.00</td>\n",
       "    </tr>\n",
       "    <tr>\n",
       "      <th>110256</th>\n",
       "      <td>Waze</td>\n",
       "      <td>Tierra Whack</td>\n",
       "      <td>119.98</td>\n",
       "      <td>22.53</td>\n",
       "      <td>-12.90</td>\n",
       "      <td>10.60</td>\n",
       "      <td>14.40</td>\n",
       "      <td>59.00</td>\n",
       "      <td>70.93</td>\n",
       "      <td>52.87</td>\n",
       "      <td>False</td>\n",
       "      <td>2961323.00</td>\n",
       "    </tr>\n",
       "    <tr>\n",
       "      <th>110264</th>\n",
       "      <td>En Vida</td>\n",
       "      <td>Banda Los Sebastianes</td>\n",
       "      <td>130.13</td>\n",
       "      <td>75.51</td>\n",
       "      <td>-3.24</td>\n",
       "      <td>10.80</td>\n",
       "      <td>95.80</td>\n",
       "      <td>145.00</td>\n",
       "      <td>58.82</td>\n",
       "      <td>3.79</td>\n",
       "      <td>False</td>\n",
       "      <td>10779.00</td>\n",
       "    </tr>\n",
       "  </tbody>\n",
       "</table>\n",
       "<p>12787 rows × 12 columns</p>\n",
       "</div>"
      ],
      "text/plain": [
       "                    song_name            song_artist    BPM  energy  loudness  \\\n",
       "0                     Sunrise            Norah Jones 153.43   30.00    -14.00   \n",
       "2              Clint Eastwood               Gorillaz 164.17   69.00     -9.00   \n",
       "3               The Pretender           Foo Fighters 169.06   96.00     -4.00   \n",
       "8              Mr. Brightside            The Killers 144.63   92.00     -4.00   \n",
       "9                  Without Me                 Eminem 109.45   67.00     -3.00   \n",
       "...                       ...                    ...    ...     ...       ...   \n",
       "110202           I Get Lonely            Kodak Black 132.10   61.21     -4.19   \n",
       "110232  Atrasadinha - Ao Vivo          Felipe Araújo 159.97   86.82     -3.40   \n",
       "110249                Báilame                  Nacho  96.01   89.39     -5.01   \n",
       "110256                   Waze           Tierra Whack 119.98   22.53    -12.90   \n",
       "110264                En Vida  Banda Los Sebastianes 130.13   75.51     -3.24   \n",
       "\n",
       "        liveness  valence  song_duration  acousticness  speechiness  top2000  \\\n",
       "0          11.00    68.00         201.00         94.00         3.00     True   \n",
       "2           7.00    52.00         341.00          2.00        17.00     True   \n",
       "3           3.00    37.00         269.00          0.00         4.00     True   \n",
       "8          10.00    23.00         223.00          0.00         8.00     True   \n",
       "9          24.00    66.00         290.00          0.00         7.00     True   \n",
       "...          ...      ...            ...           ...          ...      ...   \n",
       "110202     10.00    36.20         213.00         65.57        16.11    False   \n",
       "110232     86.60    69.80         172.00         53.36        11.26    False   \n",
       "110249      5.38    53.10         206.00         15.96        14.87    False   \n",
       "110256     10.60    14.40          59.00         70.93        52.87    False   \n",
       "110264     10.80    95.80         145.00         58.82         3.79    False   \n",
       "\n",
       "           totstream  \n",
       "0          865457.00  \n",
       "2          522873.00  \n",
       "3          461580.00  \n",
       "8       749391763.00  \n",
       "9      2148389904.00  \n",
       "...              ...  \n",
       "110202    2106394.00  \n",
       "110232  209931526.00  \n",
       "110249  167134601.00  \n",
       "110256    2961323.00  \n",
       "110264      10779.00  \n",
       "\n",
       "[12787 rows x 12 columns]"
      ]
     },
     "execution_count": 21,
     "metadata": {},
     "output_type": "execute_result"
    }
   ],
   "source": [
    "jointdf = pd.merge(jointdf, songs,  how='left', left_on='song_name', right_on = 'song_name')\n",
    "jointdf = jointdf.dropna()\n",
    "jointdf"
   ]
  },
  {
   "cell_type": "markdown",
   "metadata": {},
   "source": [
    "# Data Analysis & Results"
   ]
  },
  {
   "cell_type": "markdown",
   "metadata": {},
   "source": [
    "Include cells that describe the steps in your data analysis."
   ]
  },
  {
   "cell_type": "code",
   "execution_count": 22,
   "metadata": {},
   "outputs": [],
   "source": [
    "hundf.name = 'hundf'\n",
    "moredf.name = 'moredf'"
   ]
  },
  {
   "cell_type": "markdown",
   "metadata": {},
   "source": [
    "### We are looking to find if there are any determiners of whether or not a song will have more or less success as evidenced by being in the top 2000 songs or not . In order to explore this topic we will look at the different characteristics lifted from the Spotify API and compare them within our datasets. "
   ]
  },
  {
   "cell_type": "markdown",
   "metadata": {},
   "source": [
    "#### First, we want to observe the possible correlations variables may have with each other in all of the songs in the 3 datasets."
   ]
  },
  {
   "cell_type": "code",
   "execution_count": 23,
   "metadata": {},
   "outputs": [
    {
     "data": {
      "image/png": "[encoded data removed]",
      "text/plain": [
       "<Figure size 720x576 with 1 Axes>"
      ]
     },
     "metadata": {
      "needs_background": "light"
     },
     "output_type": "display_data"
    }
   ],
   "source": [
    "fig, ax = plt.subplots(figsize=(10,8))\n",
    "sns.heatmap(jointdf.corr(), annot=True, fmt='.1g', cmap=\"Greens_r\", cbar=False);"
   ]
  },
  {
   "cell_type": "markdown",
   "metadata": {},
   "source": [
    "As we can see, two variables have a realtionship with one other variable. Specifically, energy and loudness both have a medium, negative correlation to acousticness of -0.6 and -0.5 respectively."
   ]
  },
  {
   "cell_type": "markdown",
   "metadata": {},
   "source": [
    "#### To get a closer look into the descriptive characteristic, we want to focus in on specific characteristic distributions. "
   ]
  },
  {
   "cell_type": "code",
   "execution_count": null,
   "metadata": {},
   "outputs": [
    {
     "data": {
      "text/plain": [
       "<AxesSubplot:xlabel='BPM'>"
      ]
     },
     "execution_count": 24,
     "metadata": {},
     "output_type": "execute_result"
    },
    {
     "data": {
      "image/png": "[encoded data removed]",
      "text/plain": [
       "<Figure size 1296x720 with 4 Axes>"
      ]
     },
     "metadata": {
      "needs_background": "light"
     },
     "output_type": "display_data"
    }
   ],
   "source": [
    "# Find distribution and any outliers for BPM in both datasets\n",
    "fig1, axes1 = plt.subplots(2, 2, figsize=(18, 10))\n",
    "fig1.suptitle('BPM for hundf (blue) and moredf (red)')\n",
    "\n",
    "sns.histplot(ax=axes1[0,0], data=hundf, x='BPM') \n",
    "sns.boxplot(ax=axes1[0,1], data=hundf, x='BPM')\n",
    "sns.histplot(ax=axes1[1,0], data=moredf, x='BPM', color='red') \n",
    "sns.boxplot(ax=axes1[1,1], data=moredf, x='BPM', color='red')"
   ]
  },
  {
   "cell_type": "markdown",
   "metadata": {},
   "source": [
    "The distribution for BPM in both datasets seem to take on a traditional bell curve shape. However, we can see from the boxplots that both datasets have a a good amount of outliers, as can be seen by the individual points."
   ]
  },
  {
   "cell_type": "markdown",
   "metadata": {},
   "source": [
    "#### In order to remove outliers from our data and get a closer look at distributions we will need to caluclate the Q1, Q2, and IQR of each column in our datasets. We are going to keep observations that are within our quartiles. "
   ]
  },
  {
   "cell_type": "markdown",
   "metadata": {},
   "source": [
    "#### Quartiles work in relation to means and standard deviations so we would also like to have an understanding of what those values are as we interpret our graphs."
   ]
  },
  {
   "cell_type": "code",
   "execution_count": 27,
   "metadata": {},
   "outputs": [],
   "source": [
    "# Write a function that gets rid of the larger outliers to better analyze data.\n",
    "def remove_outlier(dfin, col_name):\n",
    "    q1 = dfin[col_name].quantile(0.25)\n",
    "    q3 = dfin[col_name].quantile(0.75)\n",
    "    iqr = q3-q1 #Interquartile range\n",
    "    low  = q1-1.5*iqr\n",
    "    high = q3+1.5*iqr\n",
    "    df_out = dfin.loc[(dfin[col_name] > low) & (dfin[col_name] < high)]\n",
    "    return df_out\n"
   ]
  },
  {
   "cell_type": "code",
   "execution_count": null,
   "metadata": {},
   "outputs": [
    {
     "data": {
      "text/plain": [
       "<AxesSubplot:xlabel='BPM'>"
      ]
     },
     "execution_count": 28,
     "metadata": {},
     "output_type": "execute_result"
    },
    {
     "data": {
      "image/png": "[encoded data removed]",
      "text/plain": [
       "<Figure size 1296x720 with 4 Axes>"
      ]
     },
     "metadata": {
      "needs_background": "light"
     },
     "output_type": "display_data"
    }
   ],
   "source": [
    "hundf = remove_outlier(hundf,'BPM')\n",
    "moredf = remove_outlier(moredf,'BPM')\n",
    "fig1, axes1 = plt.subplots(2, 2, figsize=(18, 10))\n",
    "fig1.suptitle('BPM for hundf (blue) and moredf (red)')\n",
    "\n",
    "sns.histplot(ax=axes1[0,0], data=hundf, x='BPM') \n",
    "sns.boxplot(ax=axes1[0,1], data=hundf, x='BPM')\n",
    "sns.histplot(ax=axes1[1,0], data=moredf, x='BPM', color='red') \n",
    "sns.boxplot(ax=axes1[1,1], data=moredf, x='BPM', color='red')"
   ]
  },
  {
   "cell_type": "markdown",
   "metadata": {},
   "source": [
    "Now, we can see that the plots' still retain the same distributions, but the boxplot does not include any extreme outliers."
   ]
  },
  {
   "cell_type": "markdown",
   "metadata": {},
   "source": [
    "#### Now we will want to visualize the rest of the song characteristics in our datasets."
   ]
  },
  {
   "cell_type": "code",
   "execution_count": 32,
   "metadata": {},
   "outputs": [],
   "source": [
    "# Write function that plots the hist and bar plots for a given variable in a dataset\n",
    "def plot_var(column):\n",
    "    \n",
    "    fig, axes = plt.subplots(2, 2, figsize=(18, 10))\n",
    "    fig.suptitle(str(column) + ' for hundf (blue) and moredf (red)')\n",
    "\n",
    "    sns.histplot(ax=axes[0,0], data=hundf, x=column) \n",
    "    sns.boxplot(ax=axes[0,1], data=hundf, x=column)\n",
    "        \n",
    "    sns.histplot(ax=axes[1,0], data=moredf, x=column, color='red') \n",
    "    sns.boxplot(ax=axes[1,1], data=moredf, x=column, color='red')"
   ]
  },
  {
   "cell_type": "code",
   "execution_count": 33,
   "metadata": {},
   "outputs": [
    {
     "data": {
      "image/png": "[encoded data removed]",
      "text/plain": [
       "<Figure size 1296x720 with 4 Axes>"
      ]
     },
     "metadata": {
      "needs_background": "light"
     },
     "output_type": "display_data"
    }
   ],
   "source": [
    "hundf = remove_outlier(hundf,'energy')\n",
    "moredf = remove_outlier(moredf,'energy')\n",
    "energy_plot = plot_var('energy')\n",
    "energy_plot"
   ]
  },
  {
   "cell_type": "markdown",
   "metadata": {},
   "source": [
    "In the plots above we see in the distribution of average energy in both songs part of the top 2000 streamed and not. We see that there is a relatively similar distribution. "
   ]
  },
  {
   "cell_type": "code",
   "execution_count": 34,
   "metadata": {},
   "outputs": [
    {
     "data": {
      "image/png": "[encoded data removed]",
      "text/plain": [
       "<Figure size 1296x720 with 4 Axes>"
      ]
     },
     "metadata": {
      "needs_background": "light"
     },
     "output_type": "display_data"
    }
   ],
   "source": [
    "hundf = remove_outlier(hundf,'loudness')\n",
    "moredf = remove_outlier(moredf,'loudness')\n",
    "loudness_plot = plot_var('loudness')\n",
    "loudness_plot"
   ]
  },
  {
   "cell_type": "markdown",
   "metadata": {},
   "source": [
    "In the plots above we see in the distribution of average loudness in both songs part of the top 2000 streamed and not. We see that the songs in the top 2000 have a relatively lower loudness distribution in comparison to songs not in the top 2000."
   ]
  },
  {
   "cell_type": "code",
   "execution_count": 35,
   "metadata": {},
   "outputs": [
    {
     "data": {
      "image/png": "[encoded data removed]",
      "text/plain": [
       "<Figure size 1296x720 with 4 Axes>"
      ]
     },
     "metadata": {
      "needs_background": "light"
     },
     "output_type": "display_data"
    }
   ],
   "source": [
    "hundf = remove_outlier(hundf,'liveness')\n",
    "moredf = remove_outlier(moredf,'liveness')\n",
    "liveness_plot = plot_var('liveness')\n",
    "liveness_plot"
   ]
  },
  {
   "cell_type": "markdown",
   "metadata": {},
   "source": [
    "In the plots above we see in the distribution of average liveness in both songs part of the top 2000 streamed and not. We see that there is a relatively similar distribution."
   ]
  },
  {
   "cell_type": "code",
   "execution_count": 36,
   "metadata": {},
   "outputs": [
    {
     "data": {
      "image/png": "[encoded data removed]",
      "text/plain": [
       "<Figure size 1296x720 with 4 Axes>"
      ]
     },
     "metadata": {
      "needs_background": "light"
     },
     "output_type": "display_data"
    }
   ],
   "source": [
    "hundf = remove_outlier(hundf,'valence')\n",
    "moredf = remove_outlier(moredf,'valence')\n",
    "valence_plot = plot_var('valence')\n",
    "valence_plot"
   ]
  },
  {
   "cell_type": "markdown",
   "metadata": {},
   "source": [
    "In the plots above we see in the distribution of average valence in both songs part of the top 2000 streamed and not. We see that there is a relatively similar distribution."
   ]
  },
  {
   "cell_type": "code",
   "execution_count": 37,
   "metadata": {},
   "outputs": [
    {
     "data": {
      "image/png": "[encoded data removed]",
      "text/plain": [
       "<Figure size 1296x720 with 4 Axes>"
      ]
     },
     "metadata": {
      "needs_background": "light"
     },
     "output_type": "display_data"
    }
   ],
   "source": [
    "hundf = remove_outlier(hundf,'song_duration')\n",
    "moredf = remove_outlier(moredf,'song_duration')\n",
    "song_duration_plot = plot_var('song_duration')\n",
    "song_duration_plot"
   ]
  },
  {
   "cell_type": "markdown",
   "metadata": {},
   "source": [
    "In the plots above we see in the distribution of average song_duration in both songs part of the top 2000 streamed and not. We see that the songs in the top 2000 have a significantly larger average song duration over songs not in the top 2000."
   ]
  },
  {
   "cell_type": "code",
   "execution_count": 38,
   "metadata": {},
   "outputs": [
    {
     "data": {
      "image/png": "[encoded data removed]",
      "text/plain": [
       "<Figure size 1296x720 with 4 Axes>"
      ]
     },
     "metadata": {
      "needs_background": "light"
     },
     "output_type": "display_data"
    }
   ],
   "source": [
    "hundf = remove_outlier(hundf,'acousticness')\n",
    "moredf = remove_outlier(moredf,'acousticness')\n",
    "acousticness_plot = plot_var('acousticness')\n",
    "acousticness_plot"
   ]
  },
  {
   "cell_type": "markdown",
   "metadata": {},
   "source": [
    "In the plots above we see in the distribution of average acousticness in both songs part of the top 2000 streamed and not. We see that there is a relatively similar distribution."
   ]
  },
  {
   "cell_type": "code",
   "execution_count": 39,
   "metadata": {},
   "outputs": [
    {
     "data": {
      "image/png": "[encoded data removed]",
      "text/plain": [
       "<Figure size 1296x720 with 4 Axes>"
      ]
     },
     "metadata": {
      "needs_background": "light"
     },
     "output_type": "display_data"
    }
   ],
   "source": [
    "hundf = remove_outlier(hundf,'speechiness')\n",
    "moredf = remove_outlier(moredf,'speechiness')\n",
    "speechiness_plot = plot_var('speechiness')\n",
    "speechiness_plot"
   ]
  },
  {
   "cell_type": "markdown",
   "metadata": {},
   "source": [
    "In the plots above we see in the distribution of average speechiness in both songs part of the top 2000 streamed and not. We find that on average in songs in the top 2000 the amount of spoken words is less than those songs not in the top 2000."
   ]
  },
  {
   "cell_type": "markdown",
   "metadata": {},
   "source": [
    "#### Now, in order to analyze these distributions quantitatively, we will need to find the averages and standard deviations for each variable."
   ]
  },
  {
   "cell_type": "code",
   "execution_count": 66,
   "metadata": {},
   "outputs": [],
   "source": [
    "# Write function that calculates the means and standard deviations of each variable for both datasets\n",
    "def avg_std(df):\n",
    "    \n",
    "    avg_std = {}\n",
    "    \n",
    "    for column in df.columns[2:-1]:\n",
    "        avg = df[column].mean()\n",
    "        std = df[column].std()\n",
    "        value = str(avg) + ' ± ' + str(std)\n",
    "        avg_std[column] = value\n",
    "        \n",
    "    return avg_std\n",
    "\n",
    "hundf_avg_std = avg_std(hundf)\n",
    "moredf_avg_std = avg_std(moredf)\n"
   ]
  },
  {
   "cell_type": "code",
   "execution_count": 67,
   "metadata": {},
   "outputs": [
    {
     "data": {
      "text/plain": [
       "{'BPM': '116.19673842139598 ± 26.13013246262694',\n",
       " 'energy': '58.199608610567516 ± 21.3929864511342',\n",
       " 'loudness': '-8.989562948467057 ± 3.332903552195089',\n",
       " 'liveness': '15.177429876060014 ± 8.932066615111147',\n",
       " 'valence': '49.026744944553165 ± 24.87524884031659',\n",
       " 'song_duration': '248.41943 ± 53.982235',\n",
       " 'acousticness': '29.64840182648402 ± 29.319406602362715',\n",
       " 'speechiness': '3.7677756033920415 ± 1.0867490849474786'}"
      ]
     },
     "execution_count": 67,
     "metadata": {},
     "output_type": "execute_result"
    }
   ],
   "source": [
    "hundf_avg_std"
   ]
  },
  {
   "cell_type": "code",
   "execution_count": 68,
   "metadata": {},
   "outputs": [
    {
     "data": {
      "text/plain": [
       "{'BPM': '121.0752836337822 ± 28.13241083528004',\n",
       " 'energy': '62.33899238480402 ± 23.251282647751783',\n",
       " 'loudness': '-8.278357247343287 ± 4.037309216915387',\n",
       " 'liveness': '15.795840790775717 ± 9.340314094399462',\n",
       " 'valence': '44.43676730628576 ± 25.401846394688913',\n",
       " 'song_duration': '202.1345243729295 ± 53.799358758495124',\n",
       " 'acousticness': '31.941795809491037 ± 33.79650137209065',\n",
       " 'speechiness': '8.226892290151874 ± 6.513711809361733'}"
      ]
     },
     "execution_count": 68,
     "metadata": {},
     "output_type": "execute_result"
    }
   ],
   "source": [
    "moredf_avg_std"
   ]
  },
  {
   "cell_type": "markdown",
   "metadata": {},
   "source": [
    "There are large standard deviations in the variables for both data sets. This could be explained due to the diversity of music and songs included in our data."
   ]
  },
  {
   "cell_type": "markdown",
   "metadata": {},
   "source": [
    "In our analysis thus far we see that there is little significance in our findings. In order to continue searching we will split our dataset into two parts, a lower and upper, according to total number of streams. From here we will investigate if there are correlations between total number of streams and our other variables."
   ]
  },
  {
   "cell_type": "markdown",
   "metadata": {},
   "source": [
    "#### We can now find p-values to do comparative analysis between the two datasets."
   ]
  },
  {
   "cell_type": "code",
   "execution_count": 80,
   "metadata": {
    "tags": []
   },
   "outputs": [],
   "source": [
    "# write function for p-value\n",
    "def find_pval(df1, df2, var):\n",
    "    \n",
    "    t_val, p_val = ttest_ind(df1[var], df2[var])\n",
    "    \n",
    "    return p_val"
   ]
  },
  {
   "cell_type": "code",
   "execution_count": 81,
   "metadata": {},
   "outputs": [
    {
     "name": "stdout",
     "output_type": "stream",
     "text": [
      "{'BPM': 1.57144615875282e-11, 'energy': 4.472378677849976e-12, 'loudness': 6.987422139267793e-12, 'liveness': 0.01008417438704752, 'valence': 2.2406855730029122e-12, 'song_duration': 2.7223746778630816e-243, 'acousticness': 0.008277785598854276, 'speechiness': 1.3583278171736077e-157}\n"
     ]
    }
   ],
   "source": [
    "# add these values \n",
    "column_names = hundf.columns[2:-1].tolist()\n",
    "\n",
    "list_pval = {}\n",
    "\n",
    "for var in column_names:\n",
    "    \n",
    "    list_pval[var] = find_pval(hundf, moredf, var)\n",
    "\n",
    "print(list_pval)"
   ]
  },
  {
   "cell_type": "markdown",
   "metadata": {},
   "source": [
    "A p-value of 0.05 or less signals a significant difference among the two datasets. As we can see, all variables show a value less than this threshold, meaning that there is significant difference. In other words, this tells us that the data for each variable is statistically different between the two datasets."
   ]
  },
  {
   "cell_type": "markdown",
   "metadata": {},
   "source": [
    "This is meaningful to us because it tells us that each stylistic element of a song impacts whether it will be in the top 2000 or not."
   ]
  },
  {
   "cell_type": "markdown",
   "metadata": {},
   "source": [
    "#### To further explore this concept, we split the songs by the number of streams they had, rather than if they were in the top 2000 or not. "
   ]
  },
  {
   "cell_type": "code",
   "execution_count": 87,
   "metadata": {},
   "outputs": [],
   "source": [
    "#songs with more than 600,000 streams\n",
    "less6hunk = jointdf[jointdf['totstream']<600000]\n",
    "#songs with less than 600,000 streams\n",
    "more6hunk = jointdf[jointdf['totstream']>=600000]"
   ]
  },
  {
   "cell_type": "markdown",
   "metadata": {},
   "source": [
    "We picked the arbitrary number of 600,000 streams to mimic a scenario where an up and coming artist may set the goal of reaching this many streams."
   ]
  },
  {
   "cell_type": "code",
   "execution_count": 91,
   "metadata": {},
   "outputs": [
    {
     "data": {
      "text/plain": [
       "600145.0"
      ]
     },
     "execution_count": 91,
     "metadata": {},
     "output_type": "execute_result"
    }
   ],
   "source": [
    "#the lowest amount of streams in first data set is above 600,000\n",
    "more6hunk['totstream'].min()"
   ]
  },
  {
   "cell_type": "code",
   "execution_count": 93,
   "metadata": {},
   "outputs": [
    {
     "data": {
      "text/plain": [
       "599386.0"
      ]
     },
     "execution_count": 93,
     "metadata": {},
     "output_type": "execute_result"
    }
   ],
   "source": [
    "#the highest amount of streams in the second data set is below 600,000\n",
    "less6hunk['totstream'].max()"
   ]
  },
  {
   "cell_type": "markdown",
   "metadata": {},
   "source": [
    "#### Now we will find the averages for each variable."
   ]
  },
  {
   "cell_type": "code",
   "execution_count": 95,
   "metadata": {},
   "outputs": [
    {
     "data": {
      "text/plain": [
       "{'BPM': '121.68126146110617 ± 29.023946338785922',\n",
       " 'energy': '64.39158237207927 ± 19.86817377448315',\n",
       " 'loudness': '-7.303951493640933 ± 3.674623056816362',\n",
       " 'liveness': '17.56357734398107 ± 13.345954789331383',\n",
       " 'valence': '46.08939958592133 ± 23.372780695471214',\n",
       " 'song_duration': '205.39514936409347 ± 53.627995149573046',\n",
       " 'acousticness': '27.670368234250223 ± 28.57267504460718',\n",
       " 'speechiness': '12.878111505471756 ± 12.547034032234594',\n",
       " 'top2000': '0.06625258799171843 ± 0.24874149750481178'}"
      ]
     },
     "execution_count": 95,
     "metadata": {},
     "output_type": "execute_result"
    }
   ],
   "source": [
    "more6hunk_avgstd = avg_std(more6hunk)\n",
    "more6hunk_avgstd"
   ]
  },
  {
   "cell_type": "code",
   "execution_count": 96,
   "metadata": {},
   "outputs": [
    {
     "data": {
      "text/plain": [
       "{'BPM': '121.63393858921161 ± 28.6359276057226',\n",
       " 'energy': '64.58142406639003 ± 21.495109704274366',\n",
       " 'loudness': '-7.643384232365145 ± 4.031135502002917',\n",
       " 'liveness': '17.985178423236515 ± 14.281769798518937',\n",
       " 'valence': '45.1533062240664 ± 24.062281582251547',\n",
       " 'song_duration': '209.51020746887966 ± 69.46567748879683',\n",
       " 'acousticness': '28.099131950207468 ± 29.63938263887809',\n",
       " 'speechiness': '11.89514356846473 ± 12.310243644587722',\n",
       " 'top2000': '0.05892116182572614 ± 0.23549663112711897'}"
      ]
     },
     "execution_count": 96,
     "metadata": {},
     "output_type": "execute_result"
    }
   ],
   "source": [
    "less6hunk_avgstd = avg_std(less6hunk)\n",
    "less6hunk_avgstd"
   ]
  },
  {
   "cell_type": "markdown",
   "metadata": {},
   "source": [
    "#### Lastly, we will find p-values to note any significant differences."
   ]
  },
  {
   "cell_type": "code",
   "execution_count": 86,
   "metadata": {},
   "outputs": [
    {
     "name": "stdout",
     "output_type": "stream",
     "text": [
      "{'BPM': 0.9262109435798871, 'energy': 0.603835767667495, 'loudness': 6.416562893048198e-07, 'liveness': 0.08453091360089497, 'valence': 0.025800604421793064, 'song_duration': 0.0001634850839733911, 'acousticness': 0.4052842253766348, 'speechiness': 8.204908901299235e-06}\n"
     ]
    }
   ],
   "source": [
    "list_pval_600k = {}\n",
    "\n",
    "for var in column_names:\n",
    "    \n",
    "    list_pval_600k[var] = find_pval(more6hunk, less6hunk, var)\n",
    "\n",
    "print(list_pval_600k)"
   ]
  },
  {
   "cell_type": "markdown",
   "metadata": {},
   "source": [
    "There are significant differences in the variables of loudness, valence, song duration, and speechiness."
   ]
  },
  {
   "cell_type": "markdown",
   "metadata": {},
   "source": [
    "This tells us that for an up and coming artist to reach a goal of 600,000 streams for a song, they must pay heavy attention to these stylistic elements."
   ]
  },
  {
   "cell_type": "markdown",
   "metadata": {},
   "source": [
    "# Ethics & Privacy"
   ]
  },
  {
   "cell_type": "markdown",
   "metadata": {},
   "source": [
    "A possible issue in regards to privacy with the data we have proposed is in the data pre wrangling user interests are gathered. The counting of streams implies listener usage is tracked, monitored and quantified. The type of music one listens to can be closely related to one’s personality and in turn provide a means for companies to gain insight into a user’s interests. Permission to use the datasets will be gained prior to use through accessing data that has been officially released to the public and is covered under “fair use” for public analysis and discussion. \n",
    "\n",
    "Another possible bias could be the different socioeconomic statuses artists hold before gaining popularity. As discussed earlier, a new artist’s relative success rate depends on many factors, one including their ability to advertise their content and gain song exposure. Thus, it seems as though artists coming from wealthier backgrounds with a higher ability to advertise will predictably become more popular compared to those who are not as fortunate and cannot as easily find their target audiences. Thus, artists who have more intial wealth will be better able to build a fan base and consequently gain more streams. To combat this particular bias in the future, we can account for the ways current popular artists achieved their success, namely through early advertisement. For artists who began their career with extensive advertising through expensive means, we could somewhat weigh their data less compared to the artists who began their careers with less extravagant advertising.\n",
    "\n"
   ]
  },
  {
   "cell_type": "markdown",
   "metadata": {},
   "source": [
    "# Conclusion & Discussion"
   ]
  },
  {
   "cell_type": "markdown",
   "metadata": {},
   "source": [
    "In this project we set out to see whether there are significant correlations between 8 numerical values of song characteristics and total number of streams a song has on Spotify. From our background research we hypothesized that there would be some sort of strong correlation between song characteristics and total streams. From our analysis we aimed to determine the key elements that would predict the popularity,in terms of total streams, of a song.\n",
    "\n",
    "\n",
    "In our initial analysis we determine the Pearson correlation between all the variables in our data. This was done to determine if there were any correlations between the different variables of song characteristics. We found only slight negative correlations acousticness & energy and acousticness & loudness which informed us that in any future analysis we could assume that if a energy our loudness value was high the acousticness was lower. With this we were able to support our hypothesis however, we continued our analysis to find correlations between total amount of streams and the variables. We used our two datasets we were able to find slight differences in mean values between songs  a part of Spotifys top 2000 and songs not included in Spotifys top 2000. We noted that although we found slight differences in loudness, song duration and speechiness the large amount of observations from the songs not a part of Spotify’s top 2000 may skew our results. In order to specifically see the effect the variables have on total streams we computed the p values of each variable between the ~6000 most streamed songs and the ~6000 least streamed songs. Our p values for loudness, valence, song_duration, and speechiness were less than 0.05 indicating a significant difference between the datasets. Thus we were able further support our hypothesis.\n",
    "\n",
    "\n",
    "During our data cleaning while gaining an understanding of our variables we began noticing some limitations to our project. We noted that the values of decibels (dB) can be dependent on the instrument used to take the measurements resulting in some precision differences. Additionally we recognized that all of our data was specific to the time in which it was scrapped from Spotifys website. Because of this at any time values such as stream totals can change. In the future there would great value in exploring correlations of song characteristics and other factors such as genre, streaming platform, and artists.\n"
   ]
  },
  {
   "cell_type": "markdown",
   "metadata": {},
   "source": [
    "# Team Contributions"
   ]
  },
  {
   "cell_type": "markdown",
   "metadata": {},
   "source": [
    "Royce Casiano - Project Proposal, Background, Video\n",
    "\n",
    "Ryan Kim - Data Analysis, Data Wrangle, Data Scrapping, Visualizations, Project Propsal, Video, Video Editing\n",
    "\n",
    "Hargun Singh Mahindra - Project Proposal, Video, Final Edits\n",
    "\n",
    "Keionni Thompson - Project Proposal, Overview , Data Wrangle, Data Scrapping, Data Analysis, Ethics, Conclusion, Video"
   ]
  }
 ],
 "metadata": {
  "kernelspec": {
   "display_name": "Python 3",
   "language": "python",
   "name": "python3"
  },
  "language_info": {
   "codemirror_mode": {
    "name": "ipython",
    "version": 3
   },
   "file_extension": ".py",
   "mimetype": "text/x-python",
   "name": "python",
   "nbconvert_exporter": "python",
   "pygments_lexer": "ipython3",
   "version": "3.8.5"
  }
 },
 "nbformat": 4,
 "nbformat_minor": 4
}
